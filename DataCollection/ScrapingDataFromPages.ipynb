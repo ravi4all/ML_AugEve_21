{
 "cells": [
  {
   "cell_type": "code",
   "execution_count": 1,
   "metadata": {},
   "outputs": [],
   "source": [
    "import urllib.request as url\n",
    "import bs4"
   ]
  },
  {
   "cell_type": "code",
   "execution_count": 2,
   "metadata": {},
   "outputs": [],
   "source": [
    "data = {\"title\":[], \"price\":[]}\n",
    "\n",
    "for i in range(1,6):\n",
    "    path = \"https://www.flipkart.com/search?q=smart%20tv&otracker=search&otracker1=search&marketplace=FLIPKART&as-show=on&as=off&page={}\".format(i)\n",
    "    response = url.urlopen(path)\n",
    "    source_code = bs4.BeautifulSoup(response)\n",
    "    titleList = source_code.find_all('div', attrs={'class' : '_4rR01T'})\n",
    "    priceList = source_code.find_all('div', attrs={'class' : '_30jeq3 _1_WHN1'})\n",
    "    \n",
    "    for j in range(len(titleList)):\n",
    "        data[\"title\"].append(titleList[j].text)\n",
    "        data[\"price\"].append(priceList[j].text)\n",
    "    "
   ]
  },
  {
   "cell_type": "code",
   "execution_count": 4,
   "metadata": {},
   "outputs": [],
   "source": [
    "import pandas as pd"
   ]
  },
  {
   "cell_type": "code",
   "execution_count": 5,
   "metadata": {},
   "outputs": [],
   "source": [
    "df = pd.DataFrame(data)"
   ]
  },
  {
   "cell_type": "code",
   "execution_count": 7,
   "metadata": {},
   "outputs": [
    {
     "data": {
      "text/html": [
       "<div>\n",
       "<style scoped>\n",
       "    .dataframe tbody tr th:only-of-type {\n",
       "        vertical-align: middle;\n",
       "    }\n",
       "\n",
       "    .dataframe tbody tr th {\n",
       "        vertical-align: top;\n",
       "    }\n",
       "\n",
       "    .dataframe thead th {\n",
       "        text-align: right;\n",
       "    }\n",
       "</style>\n",
       "<table border=\"1\" class=\"dataframe\">\n",
       "  <thead>\n",
       "    <tr style=\"text-align: right;\">\n",
       "      <th></th>\n",
       "      <th>title</th>\n",
       "      <th>price</th>\n",
       "    </tr>\n",
       "  </thead>\n",
       "  <tbody>\n",
       "    <tr>\n",
       "      <th>0</th>\n",
       "      <td>Mi 4A PRO 80 cm (32 inch) HD Ready LED Smart A...</td>\n",
       "      <td>₹16,999</td>\n",
       "    </tr>\n",
       "    <tr>\n",
       "      <th>1</th>\n",
       "      <td>Mi 4X 108 cm (43 inch) Ultra HD (4K) LED Smart...</td>\n",
       "      <td>₹29,999</td>\n",
       "    </tr>\n",
       "    <tr>\n",
       "      <th>2</th>\n",
       "      <td>Mi 4X 125.7 cm (50 inch) Ultra HD (4K) LED Sma...</td>\n",
       "      <td>₹38,999</td>\n",
       "    </tr>\n",
       "    <tr>\n",
       "      <th>3</th>\n",
       "      <td>Mi 4A 100 cm (40 inch) Full HD LED Smart Andro...</td>\n",
       "      <td>₹23,999</td>\n",
       "    </tr>\n",
       "    <tr>\n",
       "      <th>4</th>\n",
       "      <td>Mi 4X 138.8 cm (55 inch) Ultra HD (4K) LED Sma...</td>\n",
       "      <td>₹44,999</td>\n",
       "    </tr>\n",
       "  </tbody>\n",
       "</table>\n",
       "</div>"
      ],
      "text/plain": [
       "                                               title    price\n",
       "0  Mi 4A PRO 80 cm (32 inch) HD Ready LED Smart A...  ₹16,999\n",
       "1  Mi 4X 108 cm (43 inch) Ultra HD (4K) LED Smart...  ₹29,999\n",
       "2  Mi 4X 125.7 cm (50 inch) Ultra HD (4K) LED Sma...  ₹38,999\n",
       "3  Mi 4A 100 cm (40 inch) Full HD LED Smart Andro...  ₹23,999\n",
       "4  Mi 4X 138.8 cm (55 inch) Ultra HD (4K) LED Sma...  ₹44,999"
      ]
     },
     "execution_count": 7,
     "metadata": {},
     "output_type": "execute_result"
    }
   ],
   "source": [
    "df.head()"
   ]
  },
  {
   "cell_type": "code",
   "execution_count": 8,
   "metadata": {},
   "outputs": [],
   "source": [
    "df.to_excel(\"flipkart_products.xlsx\")"
   ]
  },
  {
   "cell_type": "code",
   "execution_count": null,
   "metadata": {},
   "outputs": [],
   "source": []
  }
 ],
 "metadata": {
  "kernelspec": {
   "display_name": "Python 3",
   "language": "python",
   "name": "python3"
  },
  "language_info": {
   "codemirror_mode": {
    "name": "ipython",
    "version": 3
   },
   "file_extension": ".py",
   "mimetype": "text/x-python",
   "name": "python",
   "nbconvert_exporter": "python",
   "pygments_lexer": "ipython3",
   "version": "3.8.5"
  }
 },
 "nbformat": 4,
 "nbformat_minor": 4
}
