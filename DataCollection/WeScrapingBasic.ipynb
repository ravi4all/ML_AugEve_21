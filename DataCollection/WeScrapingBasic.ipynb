{
 "cells": [
  {
   "cell_type": "code",
   "execution_count": 1,
   "metadata": {},
   "outputs": [],
   "source": [
    "import urllib.request as url\n",
    "import bs4"
   ]
  },
  {
   "cell_type": "code",
   "execution_count": 15,
   "metadata": {},
   "outputs": [
    {
     "data": {
      "text/plain": [
       "<http.client.HTTPResponse at 0x291e317d5b0>"
      ]
     },
     "execution_count": 15,
     "metadata": {},
     "output_type": "execute_result"
    }
   ],
   "source": [
    "# path = \"https://www.flipkart.com/search?q=iphone+11\"\n",
    "path = \"https://www.flipkart.com/search?q=smart%20tv\"\n",
    "url.urlopen(path)"
   ]
  },
  {
   "cell_type": "code",
   "execution_count": 16,
   "metadata": {},
   "outputs": [],
   "source": [
    "response = url.urlopen(path)"
   ]
  },
  {
   "cell_type": "code",
   "execution_count": 17,
   "metadata": {},
   "outputs": [],
   "source": [
    "source_code = bs4.BeautifulSoup(response)"
   ]
  },
  {
   "cell_type": "code",
   "execution_count": 18,
   "metadata": {},
   "outputs": [
    {
     "data": {
      "text/plain": [
       "<div class=\"_4rR01T\">Mi 4A PRO 80 cm (32 inch) HD Ready LED Smart Android TV</div>"
      ]
     },
     "execution_count": 18,
     "metadata": {},
     "output_type": "execute_result"
    }
   ],
   "source": [
    "source_code.find('div', attrs={'class' : '_4rR01T'})"
   ]
  },
  {
   "cell_type": "code",
   "execution_count": 19,
   "metadata": {},
   "outputs": [],
   "source": [
    "title = source_code.find('div', attrs={'class' : '_4rR01T'})"
   ]
  },
  {
   "cell_type": "code",
   "execution_count": 20,
   "metadata": {},
   "outputs": [
    {
     "data": {
      "text/plain": [
       "'Mi 4A PRO 80 cm (32 inch) HD Ready LED Smart Android TV'"
      ]
     },
     "execution_count": 20,
     "metadata": {},
     "output_type": "execute_result"
    }
   ],
   "source": [
    "title.text"
   ]
  },
  {
   "cell_type": "code",
   "execution_count": 21,
   "metadata": {},
   "outputs": [],
   "source": [
    "price = source_code.find('div', attrs={'class' : '_30jeq3 _1_WHN1'})"
   ]
  },
  {
   "cell_type": "code",
   "execution_count": 22,
   "metadata": {},
   "outputs": [
    {
     "data": {
      "text/plain": [
       "'₹16,999'"
      ]
     },
     "execution_count": 22,
     "metadata": {},
     "output_type": "execute_result"
    }
   ],
   "source": [
    "price.text"
   ]
  },
  {
   "cell_type": "code",
   "execution_count": 23,
   "metadata": {},
   "outputs": [],
   "source": [
    "titleList = source_code.find_all('div', attrs={'class' : '_4rR01T'})\n",
    "priceList = source_code.find_all('div', attrs={'class' : '_30jeq3 _1_WHN1'})"
   ]
  },
  {
   "cell_type": "code",
   "execution_count": 24,
   "metadata": {},
   "outputs": [
    {
     "data": {
      "text/plain": [
       "24"
      ]
     },
     "execution_count": 24,
     "metadata": {},
     "output_type": "execute_result"
    }
   ],
   "source": [
    "len(titleList)"
   ]
  },
  {
   "cell_type": "code",
   "execution_count": 25,
   "metadata": {},
   "outputs": [
    {
     "data": {
      "text/plain": [
       "24"
      ]
     },
     "execution_count": 25,
     "metadata": {},
     "output_type": "execute_result"
    }
   ],
   "source": [
    "len(priceList)"
   ]
  },
  {
   "cell_type": "code",
   "execution_count": 26,
   "metadata": {},
   "outputs": [
    {
     "name": "stdout",
     "output_type": "stream",
     "text": [
      "Mi 4A PRO 80 cm (32 inch) HD Ready LED Smart Android TV\n",
      "₹16,999\n",
      "Mi 4X 108 cm (43 inch) Ultra HD (4K) LED Smart Android TV\n",
      "₹29,999\n",
      "Mi 4X 125.7 cm (50 inch) Ultra HD (4K) LED Smart Android TV\n",
      "₹38,999\n",
      "Mi 4A 100 cm (40 inch) Full HD LED Smart Android TV\n",
      "₹23,999\n",
      "Mi 4X 138.8 cm (55 inch) Ultra HD (4K) LED Smart TV\n",
      "₹44,999\n",
      "iFFALCON by TCL 139 cm (55 inch) Ultra HD (4K) LED Smart Android TV\n",
      "₹33,999\n",
      "realme 108 cm (43 inch) Full HD LED Smart Android TV\n",
      "₹25,999\n",
      "Mi 4A Horizon Edition 100 cm (40 inch) Full HD LED Smart Android TV\n",
      "₹24,999\n",
      "Vu Premium 108 cm (43 inch) Full HD LED Smart Android TV\n",
      "₹23,999\n",
      "realme 80 cm (32 inch) HD Ready LED Smart Android TV\n",
      "₹16,999\n",
      "LG 80 cm (32 inch) HD Ready LED Smart TV 2020 Edition\n",
      "₹17,999\n",
      "SAMSUNG 80 cm (32 inch) HD Ready LED Smart TV 2020 Edition\n",
      "₹18,299\n",
      "MOTOROLA ZX Pro 127 cm (50 inch) Ultra HD (4K) LED Smart Android TV with Wireless Gamepad\n",
      "₹36,999\n",
      "Mi 4A Horizon Edition 80 cm (32 inch) HD Ready LED Smart Android TV\n",
      "₹17,499\n",
      "Mi 4A Horizon Edition 108 cm (43 inch) Full HD LED Smart Android TV\n",
      "₹27,999\n",
      "OnePlus Y Series 80 cm (32 inch) HD Ready LED Smart Android TV\n",
      "₹18,999\n",
      "Coocaa 80 cm (32 inch) HD Ready LED Smart TV\n",
      "₹12,999\n",
      "MOTOROLA ZX 80.5 cm (32 inch) HD Ready LED Smart Android TV with Wireless Gamepad\n",
      "₹15,999\n",
      "SAMSUNG Crystal 4K Pro 108 cm (43 inch) Ultra HD (4K) LED Smart TV with Voice Search\n",
      "₹39,999\n",
      "OnePlus Y Series 108 cm (43 inch) Full HD LED Smart Android TV\n",
      "₹29,499\n",
      "iFFALCON by TCL 100.3 cm (40 inch) Full HD LED Smart Android TV with Google assistant search and Dolby...\n",
      "₹19,999\n",
      "SAMSUNG 108 cm (43 inch) Full HD LED Smart TV\n",
      "₹31,999\n",
      "Vu cinema TV 126 cm (50 inch) Ultra HD (4K) LED Smart Android TV\n",
      "₹37,999\n",
      "Mi 4A Pro 108 cm (43 inch) Full HD LED Smart Android TV\n",
      "₹26,999\n"
     ]
    }
   ],
   "source": [
    "for i in range(len(titleList)):\n",
    "    print(titleList[i].text)\n",
    "    print(priceList[i].text)"
   ]
  },
  {
   "cell_type": "code",
   "execution_count": null,
   "metadata": {},
   "outputs": [],
   "source": []
  }
 ],
 "metadata": {
  "kernelspec": {
   "display_name": "Python 3",
   "language": "python",
   "name": "python3"
  },
  "language_info": {
   "codemirror_mode": {
    "name": "ipython",
    "version": 3
   },
   "file_extension": ".py",
   "mimetype": "text/x-python",
   "name": "python",
   "nbconvert_exporter": "python",
   "pygments_lexer": "ipython3",
   "version": "3.8.5"
  }
 },
 "nbformat": 4,
 "nbformat_minor": 4
}
